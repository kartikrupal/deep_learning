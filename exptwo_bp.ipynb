{
  "nbformat": 4,
  "nbformat_minor": 0,
  "metadata": {
    "colab": {
      "provenance": [],
      "authorship_tag": "ABX9TyMQlCl0TOJPmQF5/KMhUcOa",
      "include_colab_link": true
    },
    "kernelspec": {
      "name": "python3",
      "display_name": "Python 3"
    },
    "language_info": {
      "name": "python"
    }
  },
  "cells": [
    {
      "cell_type": "markdown",
      "metadata": {
        "id": "view-in-github",
        "colab_type": "text"
      },
      "source": [
        "<a href=\"https://colab.research.google.com/github/kartikrupal/deep_learning/blob/main/exptwo_bp.ipynb\" target=\"_parent\"><img src=\"https://colab.research.google.com/assets/colab-badge.svg\" alt=\"Open In Colab\"/></a>"
      ]
    },
    {
      "cell_type": "code",
      "source": [
        "import numpy as np\n",
        "from sklearn import datasets\n",
        "from sklearn.model_selection import train_test_split\n",
        "from sklearn.preprocessing import StandardScaler, OneHotEncoder"
      ],
      "metadata": {
        "id": "5EDyYAKZxNrj"
      },
      "execution_count": 2,
      "outputs": []
    },
    {
      "cell_type": "code",
      "source": [
        "# Load iris dataset\n",
        "iris = datasets.load_iris()\n",
        "X = iris.data\n",
        "y = iris.target\n"
      ],
      "metadata": {
        "id": "8BsBK5xRxNe6"
      },
      "execution_count": 3,
      "outputs": []
    },
    {
      "cell_type": "code",
      "source": [
        "# Feature scaling\n",
        "scaler = StandardScaler()\n",
        "X_scaled = scaler.fit_transform(X)\n",
        "\n",
        "# One-hot encoding the target labels\n",
        "encoder = OneHotEncoder(sparse_output=False)\n",
        "y_onehot = encoder.fit_transform(y.reshape(-1, 1))"
      ],
      "metadata": {
        "id": "xmhRRQ-GxP2Q"
      },
      "execution_count": 4,
      "outputs": []
    },
    {
      "cell_type": "code",
      "source": [
        "# Split the data into training and testing sets\n",
        "X_train, X_test, y_train, y_test = train_test_split(X_scaled, y_onehot, test_size=0.2, random_state=42)\n",
        "\n",
        "# Define network architecture\n",
        "input_size = X_train.shape[1]\n",
        "hidden_size = 5\n",
        "output_size = y_train.shape[1]\n",
        "\n",
        "# Initialize weights and biases\n",
        "np.random.seed(42)\n",
        "W1 = np.random.randn(input_size, hidden_size)\n",
        "b1 = np.zeros((1, hidden_size))\n",
        "W2 = np.random.randn(hidden_size, output_size)\n",
        "b2 = np.zeros((1, output_size))"
      ],
      "metadata": {
        "id": "HmEVplT_xWg9"
      },
      "execution_count": 5,
      "outputs": []
    },
    {
      "cell_type": "code",
      "source": [
        "# Activation function\n",
        "def sigmoid(x):\n",
        "    return 1 / (1 + np.exp(-x))\n",
        "\n",
        "def sigmoid_derivative(x):\n",
        "    return x * (1 - x)"
      ],
      "metadata": {
        "id": "XsUdbWcVxYea"
      },
      "execution_count": 6,
      "outputs": []
    },
    {
      "cell_type": "code",
      "source": [
        "# Training\n",
        "learning_rate = 0.01\n",
        "epochs = 1000"
      ],
      "metadata": {
        "id": "gY6ILHQ6xcjG"
      },
      "execution_count": 7,
      "outputs": []
    },
    {
      "cell_type": "code",
      "source": [
        "for epoch in range(epochs):\n",
        "    # Forward propagation\n",
        "    Z1 = np.dot(X_train, W1) + b1\n",
        "    A1 = sigmoid(Z1)\n",
        "    Z2 = np.dot(A1, W2) + b2\n",
        "    A2 = sigmoid(Z2)\n",
        "\n",
        "    # Loss calculation\n",
        "    loss = np.mean(np.square(A2 - y_train))\n",
        "\n",
        "    # Backpropagation\n",
        "    dA2 = A2 - y_train\n",
        "    dZ2 = dA2 * sigmoid_derivative(A2)\n",
        "    dA1 = np.dot(dZ2, W2.T)\n",
        "    dZ1 = dA1 * sigmoid_derivative(A1)\n",
        "\n",
        "    # Update weights and biases\n",
        "    W2 -= learning_rate * np.dot(A1.T, dZ2)\n",
        "    b2 -= learning_rate * np.sum(dZ2, axis=0, keepdims=True)\n",
        "    W1 -= learning_rate * np.dot(X_train.T, dZ1)\n",
        "    b1 -= learning_rate * np.sum(dZ1, axis=0, keepdims=True)\n",
        "\n",
        "    # Print loss every 100 epochs\n",
        "    if epoch % 100 == 0:\n",
        "        print(\"Epoch\", epoch, \"loss:\", loss)\n"
      ],
      "metadata": {
        "colab": {
          "base_uri": "https://localhost:8080/"
        },
        "id": "bjUBBOnbxcdW",
        "outputId": "62ebee4e-978a-40f6-b479-492e099a1083"
      },
      "execution_count": 8,
      "outputs": [
        {
          "output_type": "stream",
          "name": "stdout",
          "text": [
            "Epoch 0 loss: 0.3497755003962552\n",
            "Epoch 100 loss: 0.10045239265009916\n",
            "Epoch 200 loss: 0.07712158063230215\n",
            "Epoch 300 loss: 0.05511077321295059\n",
            "Epoch 400 loss: 0.037886494906544686\n",
            "Epoch 500 loss: 0.027522258581355145\n",
            "Epoch 600 loss: 0.022202396114180845\n",
            "Epoch 700 loss: 0.019218784785319642\n",
            "Epoch 800 loss: 0.017347201408270948\n",
            "Epoch 900 loss: 0.016069490627686613\n"
          ]
        }
      ]
    },
    {
      "cell_type": "code",
      "execution_count": 9,
      "metadata": {
        "id": "qP12YiSww47S"
      },
      "outputs": [],
      "source": [
        "# Test the model\n",
        "Z1_test = np.dot(X_test, W1) + b1\n",
        "A1_test = sigmoid(Z1_test)\n",
        "Z2_test = np.dot(A1_test, W2) + b2\n",
        "A2_test = sigmoid(Z2_test)\n",
        "\n",
        "\n"
      ]
    },
    {
      "cell_type": "code",
      "source": [
        "# Evaluate accuracy\n",
        "predicted_labels = np.argmax(A2_test, axis=1)\n",
        "accuracy = np.mean(predicted_labels == np.argmax(y_test, axis=1))\n",
        "print(\"Test Accuracy:\", accuracy)"
      ],
      "metadata": {
        "colab": {
          "base_uri": "https://localhost:8080/"
        },
        "id": "VyS3ieSMxM1T",
        "outputId": "555c5fb5-fe7b-4269-8151-095637cf2ecd"
      },
      "execution_count": 10,
      "outputs": [
        {
          "output_type": "stream",
          "name": "stdout",
          "text": [
            "Test Accuracy: 0.9666666666666667\n"
          ]
        }
      ]
    }
  ]
}