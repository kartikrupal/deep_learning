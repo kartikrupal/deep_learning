{
  "metadata": {
    "kernelspec": {
      "language": "python",
      "display_name": "Python 3",
      "name": "python3"
    },
    "language_info": {
      "name": "python",
      "version": "3.10.12",
      "mimetype": "text/x-python",
      "codemirror_mode": {
        "name": "ipython",
        "version": 3
      },
      "pygments_lexer": "ipython3",
      "nbconvert_exporter": "python",
      "file_extension": ".py"
    },
    "kaggle": {
      "accelerator": "none",
      "dataSources": [],
      "dockerImageVersionId": 30839,
      "isInternetEnabled": true,
      "language": "python",
      "sourceType": "notebook",
      "isGpuEnabled": false
    },
    "colab": {
      "name": "expthree",
      "provenance": [],
      "include_colab_link": true
    }
  },
  "nbformat_minor": 0,
  "nbformat": 4,
  "cells": [
    {
      "cell_type": "markdown",
      "metadata": {
        "id": "view-in-github",
        "colab_type": "text"
      },
      "source": [
        "<a href=\"https://colab.research.google.com/github/kartikrupal/deep_learning/blob/main/expthree.ipynb\" target=\"_parent\"><img src=\"https://colab.research.google.com/assets/colab-badge.svg\" alt=\"Open In Colab\"/></a>"
      ]
    },
    {
      "cell_type": "code",
      "source": [
        "import numpy as np\n",
        "from sklearn.datasets import load_diabetes\n",
        "from sklearn.model_selection import train_test_split\n",
        "from sklearn.preprocessing import StandardScaler"
      ],
      "metadata": {
        "trusted": true,
        "execution": {
          "iopub.status.busy": "2025-01-20T06:48:12.30146Z",
          "iopub.execute_input": "2025-01-20T06:48:12.302166Z",
          "iopub.status.idle": "2025-01-20T06:48:12.307096Z",
          "shell.execute_reply.started": "2025-01-20T06:48:12.30211Z",
          "shell.execute_reply": "2025-01-20T06:48:12.305667Z"
        },
        "id": "S0RD0ZcN_XTk"
      },
      "outputs": [],
      "execution_count": null
    },
    {
      "cell_type": "code",
      "source": [
        "data = load_diabetes()\n",
        "X, y = data.data, data.target\n",
        "X_train, X_test, y_train, y_test = train_test_split(X, y, test_size=0.2, random_state=42)"
      ],
      "metadata": {
        "trusted": true,
        "execution": {
          "iopub.status.busy": "2025-01-20T06:48:12.309004Z",
          "iopub.execute_input": "2025-01-20T06:48:12.309347Z",
          "iopub.status.idle": "2025-01-20T06:48:12.342077Z",
          "shell.execute_reply.started": "2025-01-20T06:48:12.309322Z",
          "shell.execute_reply": "2025-01-20T06:48:12.340844Z"
        },
        "id": "9xhlprXn_XTk"
      },
      "outputs": [],
      "execution_count": null
    },
    {
      "cell_type": "code",
      "source": [
        "scaler = StandardScaler()\n",
        "X_train_scaled = scaler.fit_transform(X_train)\n",
        "X_test_scaled = scaler.transform(X_test)"
      ],
      "metadata": {
        "trusted": true,
        "execution": {
          "iopub.status.busy": "2025-01-20T06:48:12.343328Z",
          "iopub.execute_input": "2025-01-20T06:48:12.343636Z",
          "iopub.status.idle": "2025-01-20T06:48:12.350761Z",
          "shell.execute_reply.started": "2025-01-20T06:48:12.343597Z",
          "shell.execute_reply": "2025-01-20T06:48:12.349465Z"
        },
        "id": "Lx-q_K3y_XTk"
      },
      "outputs": [],
      "execution_count": null
    },
    {
      "cell_type": "code",
      "source": [
        "def stochastic_gradient_descent(X, y, learning_rate=0.01, num_epochs=100, batch_size=1):\n",
        "  num_samples, num_features = X.shape\n",
        "  weights = np.zeros(num_features)\n",
        "  bias = 0\n",
        "\n",
        "  for epoch in range(num_epochs):\n",
        "    for _ in range(0, num_samples, batch_size):\n",
        "      random_indices = np.random.choice(num_samples, batch_size, replace=False)\n",
        "      X_batch = X[random_indices]\n",
        "      y_batch = y[random_indices]\n",
        "\n",
        "      predictions = np.dot(X_batch, weights) + bias\n",
        "      errors = predictions - y_batch\n",
        "\n",
        "      gradient_weights = np.dot(X_batch.T, errors) / batch_size\n",
        "      gradient_bias = np.sum(errors) / batch_size\n",
        "\n",
        "      weights -= learning_rate * gradient_weights\n",
        "      bias -= learning_rate * gradient_bias\n",
        "\n",
        "    if epoch % 10 == 0:\n",
        "      loss = np.mean((np.dot(X, weights) + bias - y)**2)\n",
        "      print(f\"Epoch {epoch}, Loss: {loss}\")\n",
        "\n",
        "  return weights, bias"
      ],
      "metadata": {
        "trusted": true,
        "execution": {
          "iopub.status.busy": "2025-01-20T06:48:12.351756Z",
          "iopub.execute_input": "2025-01-20T06:48:12.352082Z",
          "iopub.status.idle": "2025-01-20T06:48:12.362049Z",
          "shell.execute_reply.started": "2025-01-20T06:48:12.352055Z",
          "shell.execute_reply": "2025-01-20T06:48:12.360977Z"
        },
        "id": "0F36Qa4L_XTl"
      },
      "outputs": [],
      "execution_count": null
    },
    {
      "cell_type": "code",
      "source": [
        "# Train the model and print the loss every 10 epochs\n",
        "weights, bias = stochastic_gradient_descent(X_train_scaled, y_train)\n",
        "\n",
        "# Evaluate the model on the test set\n",
        "predictions = np.dot(X_test_scaled, weights) + bias\n",
        "mse = np.mean((predictions - y_test)**2)\n",
        "print(\"Mean Squared Error on Test Set:\", mse)"
      ],
      "metadata": {
        "trusted": true,
        "execution": {
          "iopub.status.busy": "2025-01-20T06:48:12.363159Z",
          "iopub.execute_input": "2025-01-20T06:48:12.363557Z",
          "iopub.status.idle": "2025-01-20T06:48:13.877788Z",
          "shell.execute_reply.started": "2025-01-20T06:48:12.3635Z",
          "shell.execute_reply": "2025-01-20T06:48:13.876738Z"
        },
        "id": "7JCwPLVj_XTl",
        "outputId": "efa0df71-cbb7-4766-fec3-a37f2726d1c8"
      },
      "outputs": [
        {
          "name": "stdout",
          "text": "Epoch 0, Loss: 3025.020476227849\nEpoch 10, Loss: 2969.4987376576873\nEpoch 20, Loss: 3030.843484705459\nEpoch 30, Loss: 2942.2997067382503\nEpoch 40, Loss: 3121.150328588546\nEpoch 50, Loss: 3045.683816868356\nEpoch 60, Loss: 3209.653169901741\nEpoch 70, Loss: 3201.252497368661\nEpoch 80, Loss: 2974.5871713185284\nEpoch 90, Loss: 3040.907899319516\nMean Squared Error on Test Set: 3036.0625140306056\n",
          "output_type": "stream"
        }
      ],
      "execution_count": null
    },
    {
      "cell_type": "code",
      "source": [],
      "metadata": {
        "trusted": true,
        "id": "NjjYPpo3_XTl"
      },
      "outputs": [],
      "execution_count": null
    },
    {
      "cell_type": "code",
      "source": [],
      "metadata": {
        "trusted": true,
        "id": "lWWe4D40_XTm"
      },
      "outputs": [],
      "execution_count": null
    }
  ]
}