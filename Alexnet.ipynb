{
  "nbformat": 4,
  "nbformat_minor": 0,
  "metadata": {
    "colab": {
      "provenance": [],
      "gpuType": "T4",
      "authorship_tag": "ABX9TyO7VGLOKx2ycoEBLjljbQEj",
      "include_colab_link": true
    },
    "kernelspec": {
      "name": "python3",
      "display_name": "Python 3"
    },
    "language_info": {
      "name": "python"
    },
    "accelerator": "GPU"
  },
  "cells": [
    {
      "cell_type": "markdown",
      "metadata": {
        "id": "view-in-github",
        "colab_type": "text"
      },
      "source": [
        "<a href=\"https://colab.research.google.com/github/kartikrupal/deep_learning/blob/main/Alexnet.ipynb\" target=\"_parent\"><img src=\"https://colab.research.google.com/assets/colab-badge.svg\" alt=\"Open In Colab\"/></a>"
      ]
    },
    {
      "cell_type": "code",
      "source": [
        "import tensorflow as tf\n",
        "import tensorflow_datasets as tfds\n",
        "from tensorflow.keras import layers, models\n",
        "\n",
        "# Load Imagenette (smaller version of ImageNet - 10 classes)\n",
        "(train_ds, val_ds), ds_info = tfds.load(\n",
        "    'imagenette/160px',  # or use 'imagenet2012' for full set (HUGE)\n",
        "    split=['train', 'validation'],\n",
        "    with_info=True,\n",
        "    as_supervised=True\n",
        ")\n",
        "\n",
        "# Constants\n",
        "IMG_SIZE = 227\n",
        "BATCH_SIZE = 32\n",
        "NUM_CLASSES = ds_info.features['label'].num_classes\n",
        "\n",
        "# Preprocessing function\n",
        "def preprocess(image, label):\n",
        "    image = tf.image.resize(image, (IMG_SIZE, IMG_SIZE))\n",
        "    image = tf.cast(image, tf.float32) / 255.0\n",
        "    return image, tf.one_hot(label, NUM_CLASSES)\n",
        "\n",
        "# Apply preprocessing\n",
        "train_ds = train_ds.map(preprocess).shuffle(1000).batch(BATCH_SIZE).prefetch(tf.data.AUTOTUNE)\n",
        "val_ds = val_ds.map(preprocess).batch(BATCH_SIZE).prefetch(tf.data.AUTOTUNE)\n",
        "\n",
        "# AlexNet model\n",
        "model = models.Sequential([\n",
        "    layers.Conv2D(96, (11, 11), strides=4, activation='relu', input_shape=(227, 227, 3)),\n",
        "    layers.BatchNormalization(),\n",
        "    layers.MaxPooling2D((3, 3), strides=2),\n",
        "\n",
        "    layers.Conv2D(256, (5, 5), padding='same', activation='relu'),\n",
        "    layers.BatchNormalization(),\n",
        "    layers.MaxPooling2D((3, 3), strides=2),\n",
        "\n",
        "    layers.Conv2D(384, (3, 3), padding='same', activation='relu'),\n",
        "    layers.Conv2D(384, (3, 3), padding='same', activation='relu'),\n",
        "    layers.Conv2D(256, (3, 3), padding='same', activation='relu'),\n",
        "    layers.MaxPooling2D((3, 3), strides=2),\n",
        "\n",
        "    layers.Flatten(),\n",
        "    layers.Dense(4096, activation='relu'),\n",
        "    layers.Dropout(0.5),\n",
        "    layers.Dense(4096, activation='relu'),\n",
        "    layers.Dropout(0.5),\n",
        "    layers.Dense(NUM_CLASSES, activation='softmax')\n",
        "])\n",
        "\n",
        "# Compile\n",
        "model.compile(optimizer='adam',\n",
        "              loss='categorical_crossentropy',\n",
        "              metrics=['accuracy'])\n",
        "\n",
        "model.summary()\n",
        "\n",
        "# Train\n",
        "model.fit(train_ds, epochs=10, validation_data=val_ds)\n"
      ],
      "metadata": {
        "id": "Unl6nOu0vhA4"
      },
      "execution_count": null,
      "outputs": []
    },
    {
      "cell_type": "code",
      "source": [],
      "metadata": {
        "id": "C--m7kbBwoYc"
      },
      "execution_count": null,
      "outputs": []
    }
  ]
}