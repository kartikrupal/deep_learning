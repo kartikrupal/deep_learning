{
  "metadata": {
    "kernelspec": {
      "display_name": "Python 3",
      "name": "python3"
    },
    "language_info": {
      "pygments_lexer": "ipython3",
      "nbconvert_exporter": "python",
      "version": "3.6.4",
      "file_extension": ".py",
      "codemirror_mode": {
        "name": "ipython",
        "version": 3
      },
      "name": "python",
      "mimetype": "text/x-python"
    },
    "colab": {
      "name": "Lab Experiment-1",
      "provenance": [],
      "gpuType": "T4"
    },
    "accelerator": "GPU"
  },
  "nbformat_minor": 0,
  "nbformat": 4,
  "cells": [
    {
      "cell_type": "code",
      "source": [
        "import numpy as np\n",
        "import tensorflow as tf\n",
        "from tensorflow.keras.models import Sequential\n",
        "from tensorflow.keras.layers import Embedding, SimpleRNN, Dense\n",
        "from tensorflow.keras.preprocessing.text import Tokenizer\n",
        "from tensorflow.keras.preprocessing.sequence import pad_sequences\n"
      ],
      "metadata": {
        "_uuid": "8f2839f25d086af736a60e9eeb907d3b93b6e0e5",
        "_cell_guid": "b1076dfc-b9ad-4769-8c92-a6c4dae69d19",
        "execution": {
          "iopub.status.busy": "2023-10-18T05:00:25.959315Z",
          "iopub.execute_input": "2023-10-18T05:00:25.961296Z",
          "iopub.status.idle": "2023-10-18T05:00:25.968825Z",
          "shell.execute_reply.started": "2023-10-18T05:00:25.961227Z",
          "shell.execute_reply": "2023-10-18T05:00:25.967606Z"
        },
        "trusted": true,
        "id": "wyY87jLx5FRj"
      },
      "execution_count": 1,
      "outputs": []
    },
    {
      "cell_type": "code",
      "source": [
        "# Example data (replace with your dataset)\n",
        "text_data = ['I love this movie', 'This is terrible', 'Neutral review','This is the worst','I Like You','He says Bad about you']\n",
        "labels = [2, 0, 1,0,2,0]  # Labels (0 for negative, 1 for neutral, 2 for positive)\n",
        "\n",
        "# Tokenize and preprocess the text data\n",
        "tokenizer = Tokenizer()\n",
        "tokenizer.fit_on_texts(text_data)\n",
        "sequences = tokenizer.texts_to_sequences(text_data)\n",
        "max_sequence_length = max([len(sequence) for sequence in sequences])\n"
      ],
      "metadata": {
        "execution": {
          "iopub.status.busy": "2023-10-18T05:04:46.926158Z",
          "iopub.execute_input": "2023-10-18T05:04:46.92664Z",
          "iopub.status.idle": "2023-10-18T05:04:46.934096Z",
          "shell.execute_reply.started": "2023-10-18T05:04:46.926609Z",
          "shell.execute_reply": "2023-10-18T05:04:46.93242Z"
        },
        "trusted": true,
        "id": "sioRUsDJ5FRn"
      },
      "execution_count": 2,
      "outputs": []
    },
    {
      "cell_type": "code",
      "source": [
        "X = pad_sequences(sequences, maxlen=max_sequence_length)\n",
        "y = tf.keras.utils.to_categorical(labels)\n"
      ],
      "metadata": {
        "execution": {
          "iopub.status.busy": "2023-10-18T05:04:47.928765Z",
          "iopub.execute_input": "2023-10-18T05:04:47.929142Z",
          "iopub.status.idle": "2023-10-18T05:04:47.934997Z",
          "shell.execute_reply.started": "2023-10-18T05:04:47.929117Z",
          "shell.execute_reply": "2023-10-18T05:04:47.933909Z"
        },
        "trusted": true,
        "id": "xFQzwPEs5FRp"
      },
      "execution_count": 3,
      "outputs": []
    },
    {
      "cell_type": "code",
      "source": [
        "# Build the RNN model\n",
        "model = Sequential()\n",
        "model.add(Embedding(input_dim=len(tokenizer.word_index) + 1, output_dim=32, input_length=max_sequence_length))\n",
        "model.add(SimpleRNN(64))\n",
        "model.add(Dense(3, activation='softmax'))  # 3 output classes (positive, negative, neutral)\n"
      ],
      "metadata": {
        "execution": {
          "iopub.status.busy": "2023-10-18T05:04:48.912134Z",
          "iopub.execute_input": "2023-10-18T05:04:48.913473Z",
          "iopub.status.idle": "2023-10-18T05:04:49.009587Z",
          "shell.execute_reply.started": "2023-10-18T05:04:48.913416Z",
          "shell.execute_reply": "2023-10-18T05:04:49.008162Z"
        },
        "trusted": true,
        "id": "yWYVduy65FRr",
        "outputId": "9a0199a4-c5c8-43d4-d8a7-f137974884a9",
        "colab": {
          "base_uri": "https://localhost:8080/"
        }
      },
      "execution_count": 4,
      "outputs": [
        {
          "output_type": "stream",
          "name": "stderr",
          "text": [
            "/usr/local/lib/python3.11/dist-packages/keras/src/layers/core/embedding.py:90: UserWarning: Argument `input_length` is deprecated. Just remove it.\n",
            "  warnings.warn(\n"
          ]
        }
      ]
    },
    {
      "cell_type": "code",
      "source": [
        "# Compile the model\n",
        "model.compile(loss='categorical_crossentropy', optimizer='adam', metrics=['accuracy'])\n",
        "\n",
        "# Train the model\n",
        "model.fit(X, y, epochs=10, batch_size=16)"
      ],
      "metadata": {
        "execution": {
          "iopub.status.busy": "2023-10-18T05:06:03.06807Z",
          "iopub.execute_input": "2023-10-18T05:06:03.068562Z",
          "iopub.status.idle": "2023-10-18T05:06:04.537679Z",
          "shell.execute_reply.started": "2023-10-18T05:06:03.068528Z",
          "shell.execute_reply": "2023-10-18T05:06:04.536367Z"
        },
        "trusted": true,
        "id": "hgrr5Pht5FRt",
        "outputId": "cebabfa0-85f7-4ba0-e43c-f58f68285a83",
        "colab": {
          "base_uri": "https://localhost:8080/"
        }
      },
      "execution_count": 5,
      "outputs": [
        {
          "output_type": "stream",
          "name": "stdout",
          "text": [
            "Epoch 1/10\n",
            "\u001b[1m1/1\u001b[0m \u001b[32m━━━━━━━━━━━━━━━━━━━━\u001b[0m\u001b[37m\u001b[0m \u001b[1m5s\u001b[0m 5s/step - accuracy: 0.1667 - loss: 1.1336\n",
            "Epoch 2/10\n",
            "\u001b[1m1/1\u001b[0m \u001b[32m━━━━━━━━━━━━━━━━━━━━\u001b[0m\u001b[37m\u001b[0m \u001b[1m0s\u001b[0m 406ms/step - accuracy: 0.3333 - loss: 1.0993\n",
            "Epoch 3/10\n",
            "\u001b[1m1/1\u001b[0m \u001b[32m━━━━━━━━━━━━━━━━━━━━\u001b[0m\u001b[37m\u001b[0m \u001b[1m0s\u001b[0m 132ms/step - accuracy: 0.5000 - loss: 1.0666\n",
            "Epoch 4/10\n",
            "\u001b[1m1/1\u001b[0m \u001b[32m━━━━━━━━━━━━━━━━━━━━\u001b[0m\u001b[37m\u001b[0m \u001b[1m0s\u001b[0m 43ms/step - accuracy: 0.6667 - loss: 1.0348\n",
            "Epoch 5/10\n",
            "\u001b[1m1/1\u001b[0m \u001b[32m━━━━━━━━━━━━━━━━━━━━\u001b[0m\u001b[37m\u001b[0m \u001b[1m0s\u001b[0m 60ms/step - accuracy: 0.8333 - loss: 1.0038\n",
            "Epoch 6/10\n",
            "\u001b[1m1/1\u001b[0m \u001b[32m━━━━━━━━━━━━━━━━━━━━\u001b[0m\u001b[37m\u001b[0m \u001b[1m0s\u001b[0m 48ms/step - accuracy: 0.8333 - loss: 0.9730\n",
            "Epoch 7/10\n",
            "\u001b[1m1/1\u001b[0m \u001b[32m━━━━━━━━━━━━━━━━━━━━\u001b[0m\u001b[37m\u001b[0m \u001b[1m0s\u001b[0m 63ms/step - accuracy: 0.8333 - loss: 0.9423\n",
            "Epoch 8/10\n",
            "\u001b[1m1/1\u001b[0m \u001b[32m━━━━━━━━━━━━━━━━━━━━\u001b[0m\u001b[37m\u001b[0m \u001b[1m0s\u001b[0m 52ms/step - accuracy: 0.8333 - loss: 0.9115\n",
            "Epoch 9/10\n",
            "\u001b[1m1/1\u001b[0m \u001b[32m━━━━━━━━━━━━━━━━━━━━\u001b[0m\u001b[37m\u001b[0m \u001b[1m0s\u001b[0m 57ms/step - accuracy: 0.8333 - loss: 0.8803\n",
            "Epoch 10/10\n",
            "\u001b[1m1/1\u001b[0m \u001b[32m━━━━━━━━━━━━━━━━━━━━\u001b[0m\u001b[37m\u001b[0m \u001b[1m0s\u001b[0m 47ms/step - accuracy: 0.8333 - loss: 0.8486\n"
          ]
        },
        {
          "output_type": "execute_result",
          "data": {
            "text/plain": [
              "<keras.src.callbacks.history.History at 0x7ddde9eaa550>"
            ]
          },
          "metadata": {},
          "execution_count": 5
        }
      ]
    },
    {
      "cell_type": "code",
      "source": [
        "# Prepare a test dataset\n",
        "test_data = ['I enjoyed the movie', 'This is the worst thing ever']\n",
        "test_labels = [2, 0]\n",
        "\n",
        "# Tokenize and preprocess the test data\n",
        "test_sequences = tokenizer.texts_to_sequences(test_data)\n",
        "X_test = pad_sequences(test_sequences, maxlen=max_sequence_length)\n",
        "y_test = tf.keras.utils.to_categorical(test_labels)\n"
      ],
      "metadata": {
        "execution": {
          "iopub.status.busy": "2023-10-18T05:06:06.060688Z",
          "iopub.execute_input": "2023-10-18T05:06:06.061159Z",
          "iopub.status.idle": "2023-10-18T05:06:06.068963Z",
          "shell.execute_reply.started": "2023-10-18T05:06:06.061127Z",
          "shell.execute_reply": "2023-10-18T05:06:06.067599Z"
        },
        "trusted": true,
        "id": "NriT3AZb5FRu"
      },
      "execution_count": 6,
      "outputs": []
    },
    {
      "cell_type": "code",
      "source": [
        "# Evaluate the model on the test dataset\n",
        "loss, accuracy = model.evaluate(X_test, y_test)\n",
        "print(f'Loss: {loss}, Accuracy: {accuracy}')\n"
      ],
      "metadata": {
        "execution": {
          "iopub.status.busy": "2023-10-18T05:06:07.168162Z",
          "iopub.execute_input": "2023-10-18T05:06:07.168598Z",
          "iopub.status.idle": "2023-10-18T05:06:07.509002Z",
          "shell.execute_reply.started": "2023-10-18T05:06:07.168559Z",
          "shell.execute_reply": "2023-10-18T05:06:07.507487Z"
        },
        "trusted": true,
        "id": "dXAVdL6q5FRw",
        "outputId": "9ebc6575-e37a-43f5-838c-3b18afa81a26",
        "colab": {
          "base_uri": "https://localhost:8080/"
        }
      },
      "execution_count": 7,
      "outputs": [
        {
          "output_type": "stream",
          "name": "stdout",
          "text": [
            "\u001b[1m1/1\u001b[0m \u001b[32m━━━━━━━━━━━━━━━━━━━━\u001b[0m\u001b[37m\u001b[0m \u001b[1m1s\u001b[0m 886ms/step - accuracy: 0.5000 - loss: 0.8534\n",
            "Loss: 0.8533788919448853, Accuracy: 0.5\n"
          ]
        }
      ]
    },
    {
      "cell_type": "code",
      "source": [
        "# Make predictions on new text data\n",
        "new_text = [\"I like it\", \"It's not bad\"]\n",
        "new_sequences = tokenizer.texts_to_sequences(new_text)\n",
        "X_new = pad_sequences(new_sequences, maxlen=max_sequence_length)\n",
        "predictions = model.predict(X_new)\n",
        "\n",
        "# Convert predictions to sentiment labels\n",
        "predicted_labels = [np.argmax(prediction) for prediction in predictions]\n",
        "print(\"Predicted Labels:\", predicted_labels)"
      ],
      "metadata": {
        "execution": {
          "iopub.status.busy": "2023-10-18T05:06:40.100078Z",
          "iopub.execute_input": "2023-10-18T05:06:40.100554Z",
          "iopub.status.idle": "2023-10-18T05:06:40.183334Z",
          "shell.execute_reply.started": "2023-10-18T05:06:40.100517Z",
          "shell.execute_reply": "2023-10-18T05:06:40.181818Z"
        },
        "trusted": true,
        "id": "2V-3BRB75FRx",
        "outputId": "10dd5456-6e49-4bb8-f1f8-309714d68777",
        "colab": {
          "base_uri": "https://localhost:8080/"
        }
      },
      "execution_count": 8,
      "outputs": [
        {
          "output_type": "stream",
          "name": "stdout",
          "text": [
            "\u001b[1m1/1\u001b[0m \u001b[32m━━━━━━━━━━━━━━━━━━━━\u001b[0m\u001b[37m\u001b[0m \u001b[1m0s\u001b[0m 440ms/step\n",
            "Predicted Labels: [2, 2]\n"
          ]
        }
      ]
    },
    {
      "cell_type": "code",
      "source": [],
      "metadata": {
        "id": "MRY2A_gI5FRz"
      },
      "execution_count": 8,
      "outputs": []
    }
  ]
}