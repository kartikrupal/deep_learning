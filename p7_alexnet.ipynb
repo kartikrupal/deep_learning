{
  "nbformat": 4,
  "nbformat_minor": 0,
  "metadata": {
    "colab": {
      "provenance": [],
      "gpuType": "T4",
      "authorship_tag": "ABX9TyPLXVDEBW53GyY0Bvm/0U54",
      "include_colab_link": true
    },
    "kernelspec": {
      "name": "python3",
      "display_name": "Python 3"
    },
    "language_info": {
      "name": "python"
    },
    "accelerator": "GPU"
  },
  "cells": [
    {
      "cell_type": "markdown",
      "metadata": {
        "id": "view-in-github",
        "colab_type": "text"
      },
      "source": [
        "<a href=\"https://colab.research.google.com/github/kartikrupal/deep_learning/blob/main/p7_alexnet.ipynb\" target=\"_parent\"><img src=\"https://colab.research.google.com/assets/colab-badge.svg\" alt=\"Open In Colab\"/></a>"
      ]
    },
    {
      "cell_type": "code",
      "execution_count": 3,
      "metadata": {
        "colab": {
          "base_uri": "https://localhost:8080/"
        },
        "id": "ew3_l2TUGFwl",
        "outputId": "49812a94-6dd5-4b6b-ebf6-3165ffa05832"
      },
      "outputs": [
        {
          "output_type": "stream",
          "name": "stdout",
          "text": [
            "Epoch 1/10\n",
            "\u001b[1m403/403\u001b[0m \u001b[32m━━━━━━━━━━━━━━━━━━━━\u001b[0m\u001b[37m\u001b[0m \u001b[1m37s\u001b[0m 56ms/step - accuracy: 0.0918 - loss: 2.5817 - val_accuracy: 0.1000 - val_loss: 2.3033\n",
            "Epoch 2/10\n",
            "\u001b[1m403/403\u001b[0m \u001b[32m━━━━━━━━━━━━━━━━━━━━\u001b[0m\u001b[37m\u001b[0m \u001b[1m28s\u001b[0m 47ms/step - accuracy: 0.0962 - loss: 2.3038 - val_accuracy: 0.1000 - val_loss: 2.3030\n",
            "Epoch 3/10\n",
            "\u001b[1m403/403\u001b[0m \u001b[32m━━━━━━━━━━━━━━━━━━━━\u001b[0m\u001b[37m\u001b[0m \u001b[1m19s\u001b[0m 47ms/step - accuracy: 0.0912 - loss: 2.3034 - val_accuracy: 0.1000 - val_loss: 2.3030\n",
            "Epoch 4/10\n",
            "\u001b[1m403/403\u001b[0m \u001b[32m━━━━━━━━━━━━━━━━━━━━\u001b[0m\u001b[37m\u001b[0m \u001b[1m19s\u001b[0m 48ms/step - accuracy: 0.0909 - loss: 2.3033 - val_accuracy: 0.1000 - val_loss: 2.3029\n",
            "Epoch 5/10\n",
            "\u001b[1m403/403\u001b[0m \u001b[32m━━━━━━━━━━━━━━━━━━━━\u001b[0m\u001b[37m\u001b[0m \u001b[1m20s\u001b[0m 47ms/step - accuracy: 0.0889 - loss: 2.3032 - val_accuracy: 0.1000 - val_loss: 2.3029\n",
            "Epoch 6/10\n",
            "\u001b[1m403/403\u001b[0m \u001b[32m━━━━━━━━━━━━━━━━━━━━\u001b[0m\u001b[37m\u001b[0m \u001b[1m20s\u001b[0m 47ms/step - accuracy: 0.0935 - loss: 2.3029 - val_accuracy: 0.1000 - val_loss: 2.3029\n",
            "Epoch 7/10\n",
            "\u001b[1m403/403\u001b[0m \u001b[32m━━━━━━━━━━━━━━━━━━━━\u001b[0m\u001b[37m\u001b[0m \u001b[1m19s\u001b[0m 48ms/step - accuracy: 0.0938 - loss: 2.3028 - val_accuracy: 0.1000 - val_loss: 2.3029\n",
            "Epoch 8/10\n",
            "\u001b[1m403/403\u001b[0m \u001b[32m━━━━━━━━━━━━━━━━━━━━\u001b[0m\u001b[37m\u001b[0m \u001b[1m19s\u001b[0m 47ms/step - accuracy: 0.0905 - loss: 2.3029 - val_accuracy: 0.1000 - val_loss: 2.3029\n",
            "Epoch 9/10\n",
            "\u001b[1m403/403\u001b[0m \u001b[32m━━━━━━━━━━━━━━━━━━━━\u001b[0m\u001b[37m\u001b[0m \u001b[1m20s\u001b[0m 47ms/step - accuracy: 0.0930 - loss: 2.3031 - val_accuracy: 0.1000 - val_loss: 2.3029\n",
            "Epoch 10/10\n",
            "\u001b[1m403/403\u001b[0m \u001b[32m━━━━━━━━━━━━━━━━━━━━\u001b[0m\u001b[37m\u001b[0m \u001b[1m19s\u001b[0m 48ms/step - accuracy: 0.0941 - loss: 2.3028 - val_accuracy: 0.1000 - val_loss: 2.3029\n"
          ]
        },
        {
          "output_type": "execute_result",
          "data": {
            "text/plain": [
              "<keras.src.callbacks.history.History at 0x7f00948d6710>"
            ]
          },
          "metadata": {},
          "execution_count": 3
        }
      ],
      "source": [
        "import tensorflow as tf\n",
        "import tensorflow_datasets as tfds\n",
        "\n",
        "# Load the Imagenette dataset\n",
        "(train_ds, val_ds), ds_info = tfds.load(\n",
        "    'imagenette/160px',\n",
        "    split=['train', 'validation'],\n",
        "    as_supervised=True,\n",
        "    with_info=True\n",
        ")\n",
        "\n",
        "# Constants\n",
        "IMG_SIZE = 227\n",
        "BATCH_SIZE = 32\n",
        "NUM_CLASSES = ds_info.features['label'].num_classes\n",
        "\n",
        "# Preprocessing function\n",
        "def preprocess(image, label):\n",
        "    image = tf.image.resize(image, (IMG_SIZE, IMG_SIZE))\n",
        "    image = image / 255.0  # normalize\n",
        "    label = tf.one_hot(label, NUM_CLASSES)\n",
        "    return image, label\n",
        "\n",
        "# Apply preprocessing\n",
        "train_ds = train_ds.map(preprocess).batch(BATCH_SIZE)\n",
        "val_ds = val_ds.map(preprocess).batch(BATCH_SIZE)\n",
        "\n",
        "# Simplified AlexNet model\n",
        "model = tf.keras.Sequential([\n",
        "    tf.keras.layers.Conv2D(96, 11, strides=4, activation='relu', input_shape=(227, 227, 3)),\n",
        "    tf.keras.layers.MaxPooling2D(3, strides=2),\n",
        "\n",
        "    tf.keras.layers.Conv2D(256, 5, padding='same', activation='relu'),\n",
        "    tf.keras.layers.MaxPooling2D(3, strides=2),\n",
        "\n",
        "    tf.keras.layers.Conv2D(384, 3, padding='same', activation='relu'),\n",
        "    tf.keras.layers.Conv2D(384, 3, padding='same', activation='relu'),\n",
        "    tf.keras.layers.Conv2D(256, 3, padding='same', activation='relu'),\n",
        "    tf.keras.layers.MaxPooling2D(3, strides=2),\n",
        "\n",
        "    tf.keras.layers.Flatten(),\n",
        "    tf.keras.layers.Dense(4096, activation='relu'),\n",
        "    tf.keras.layers.Dropout(0.5),\n",
        "    tf.keras.layers.Dense(4096, activation='relu'),\n",
        "    tf.keras.layers.Dropout(0.5),\n",
        "    tf.keras.layers.Dense(NUM_CLASSES, activation='softmax')\n",
        "])\n",
        "\n",
        "# Compile the model\n",
        "model.compile(optimizer='adam',\n",
        "              loss='categorical_crossentropy',\n",
        "              metrics=['accuracy'])\n",
        "\n",
        "# Train the model\n",
        "model.fit(train_ds, validation_data=val_ds, epochs=10)\n"
      ]
    },
    {
      "cell_type": "code",
      "source": [
        "# Evaluate on validation set\n",
        "loss, accuracy = model.evaluate(val_ds)\n",
        "print(\"Validation Loss:\", loss)\n",
        "print(\"Validation Accuracy:\", accuracy)\n"
      ],
      "metadata": {
        "colab": {
          "base_uri": "https://localhost:8080/"
        },
        "id": "UqCtpEa_oqYs",
        "outputId": "e9c054bf-03c2-4743-9f5a-0b92c8d73000"
      },
      "execution_count": 4,
      "outputs": [
        {
          "output_type": "stream",
          "name": "stdout",
          "text": [
            "\u001b[1m16/16\u001b[0m \u001b[32m━━━━━━━━━━━━━━━━━━━━\u001b[0m\u001b[37m\u001b[0m \u001b[1m0s\u001b[0m 20ms/step - accuracy: 0.0926 - loss: 2.3015\n",
            "Validation Loss: 2.3029236793518066\n",
            "Validation Accuracy: 0.10000000149011612\n"
          ]
        }
      ]
    }
  ]
}