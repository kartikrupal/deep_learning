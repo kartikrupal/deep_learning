{
  "nbformat": 4,
  "nbformat_minor": 0,
  "metadata": {
    "colab": {
      "provenance": [],
      "authorship_tag": "ABX9TyM/xv/rrDqAE4OMf5G8vaXX",
      "include_colab_link": true
    },
    "kernelspec": {
      "name": "python3",
      "display_name": "Python 3"
    },
    "language_info": {
      "name": "python"
    }
  },
  "cells": [
    {
      "cell_type": "markdown",
      "metadata": {
        "id": "view-in-github",
        "colab_type": "text"
      },
      "source": [
        "<a href=\"https://colab.research.google.com/github/kartikrupal/deep_learning/blob/main/expfour.ipynb\" target=\"_parent\"><img src=\"https://colab.research.google.com/assets/colab-badge.svg\" alt=\"Open In Colab\"/></a>"
      ]
    },
    {
      "cell_type": "code",
      "source": [
        "import tensorflow\n",
        "from tensorflow.keras.datasets import cifar10\n",
        "from tensorflow.keras.models import Sequential\n",
        "from tensorflow.keras.layers import Dense, Flatten"
      ],
      "metadata": {
        "id": "epY_NdMjZEb1"
      },
      "execution_count": null,
      "outputs": []
    },
    {
      "cell_type": "code",
      "source": [
        "def get_global_configuration():\n",
        "    \"\"\"Retrieve configuration of the training process.\"\"\"\n",
        "    num_layers_to_add = 10\n",
        "    return num_layers_to_add\n"
      ],
      "metadata": {
        "id": "k5oh8OcDZFI0"
      },
      "execution_count": null,
      "outputs": []
    },
    {
      "cell_type": "code",
      "source": [
        "def get_model_configuration():\n",
        "    \"\"\"Retrieve configuration for the model.\"\"\"\n",
        "    img_width, img_height = 32, 32\n",
        "    no_classes = 10\n",
        "    batch_size = 256\n",
        "    #2^8\n",
        "    no_epochs = 20\n",
        "    validation_split = 0.2\n",
        "    verbosity = 0\n",
        "    return img_width, img_height, no_classes, batch_size, no_epochs, validation_split, verbosity\n"
      ],
      "metadata": {
        "id": "aCm4moi4ZKTM"
      },
      "execution_count": null,
      "outputs": []
    },
    {
      "cell_type": "code",
      "source": [
        "def get_dataset():\n",
        "    \"\"\"Load and preprocess dataset.\"\"\"\n",
        "    # Load relevant model configuration\n",
        "    img_width, img_height, no_classes, _, _, _, _ = get_model_configuration()\n",
        "\n",
        "    # Load CIFAR-10 dataset\n",
        "    (input_train, target_train), (input_test, target_test) = cifar10.load_data()\n",
        "\n",
        "    # Reshape and normalize data\n",
        "    input_train = input_train.reshape(input_train.shape[0], img_width, img_height, 3).astype('float32') / 255\n",
        "    input_test = input_test.reshape(input_test.shape[0], img_width, img_height, 3).astype('float32') / 255\n",
        "\n",
        "    # Convert target labels to one-hot encoding\n",
        "    target_train = tensorflow.keras.utils.to_categorical(target_train, no_classes)\n",
        "    target_test = tensorflow.keras.utils.to_categorical(target_test, no_classes)\n",
        "\n",
        "    return input_train, input_test, target_train, target_test"
      ],
      "metadata": {
        "id": "BJEDhnLnZKIU"
      },
      "execution_count": null,
      "outputs": []
    },
    {
      "cell_type": "code",
      "source": [
        "def create_base_model():\n",
        "    \"\"\"Create the base model.\"\"\"\n",
        "    _, _, no_classes, _, _, _, _ = get_model_configuration()\n",
        "\n",
        "    model = Sequential()\n",
        "    model.add(Flatten(input_shape=(32, 32, 3)))  # Define input shape for the first layer\n",
        "    model.add(Dense(256, activation='relu'))\n",
        "    model.add(Dense(no_classes, activation='softmax'))\n",
        "\n",
        "    return model\n"
      ],
      "metadata": {
        "id": "TONL_eTjZJ9g"
      },
      "execution_count": null,
      "outputs": []
    },
    {
      "cell_type": "code",
      "source": [
        "def add_extra_layer(model):\n",
        "    \"\"\"Freeze existing layers, add a new dense layer, and retain the output layer.\"\"\"\n",
        "    layer_to_add = Dense(256, activation='relu')\n",
        "\n",
        "    # Make all existing layers non-trainable\n",
        "    for layer in model.layers:\n",
        "        layer.trainable = False\n",
        "\n",
        "    # Remove output layer\n",
        "    output_layer = model.layers.pop()\n",
        "\n",
        "    # Add new layer and re-add the output layer\n",
        "    model.add(layer_to_add)\n",
        "    model.add(output_layer)\n",
        "\n",
        "    return model\n"
      ],
      "metadata": {
        "id": "sJA2NRDwZS_0"
      },
      "execution_count": null,
      "outputs": []
    },
    {
      "cell_type": "code",
      "source": [
        "def train_model(model, data):\n",
        "    \"\"\"Compile and train the model.\"\"\"\n",
        "    _, _, _, batch_size, no_epochs, validation_split, verbosity = get_model_configuration()\n",
        "\n",
        "    input_train, input_test, target_train, target_test = data\n",
        "\n",
        "    model.compile(loss=tensorflow.keras.losses.categorical_crossentropy,\n",
        "                  optimizer=tensorflow.keras.optimizers.Adam(),\n",
        "                  metrics=['accuracy'])\n",
        "\n",
        "    # Train the model\n",
        "    model.fit(input_train, target_train,\n",
        "              batch_size=batch_size,\n",
        "              epochs=no_epochs,\n",
        "              verbose=verbosity,\n",
        "              validation_split=validation_split)\n",
        "\n",
        "    # Evaluate the model\n",
        "    score = model.evaluate(input_test, target_test, verbose=0)\n",
        "    print(f'Test loss: {score[0]} / Test accuracy: {score[1]}')\n",
        "\n",
        "    return model"
      ],
      "metadata": {
        "id": "W3iVcw5EZS5s"
      },
      "execution_count": null,
      "outputs": []
    },
    {
      "cell_type": "code",
      "execution_count": null,
      "metadata": {
        "colab": {
          "base_uri": "https://localhost:8080/"
        },
        "id": "R6Ci8L3pY60Y",
        "outputId": "05efe2ec-4397-4a4a-c6b2-c75460608b2d"
      },
      "outputs": [
        {
          "output_type": "stream",
          "name": "stderr",
          "text": [
            "/usr/local/lib/python3.11/dist-packages/keras/src/layers/reshaping/flatten.py:37: UserWarning: Do not pass an `input_shape`/`input_dim` argument to a layer. When using Sequential models, prefer using an `Input(shape)` object as the first layer in the model instead.\n",
            "  super().__init__(**kwargs)\n"
          ]
        },
        {
          "output_type": "stream",
          "name": "stdout",
          "text": [
            "Test loss: 1.5086926221847534 / Test accuracy: 0.4625000059604645\n",
            "Test loss: 1.505344033241272 / Test accuracy: 0.47519999742507935\n",
            "Test loss: 1.5460892915725708 / Test accuracy: 0.47429999709129333\n",
            "Test loss: 1.5736991167068481 / Test accuracy: 0.4722000062465668\n",
            "Test loss: 1.591791033744812 / Test accuracy: 0.4706999957561493\n",
            "Test loss: 1.6051878929138184 / Test accuracy: 0.4690000116825104\n",
            "Test loss: 1.6139322519302368 / Test accuracy: 0.4699000120162964\n",
            "Test loss: 1.6204835176467896 / Test accuracy: 0.4699000120162964\n",
            "Test loss: 1.6262954473495483 / Test accuracy: 0.4681999981403351\n",
            "Test loss: 1.630325436592102 / Test accuracy: 0.4668000042438507\n"
          ]
        }
      ],
      "source": [
        "def training_process():\n",
        "    \"\"\"Run the training process.\"\"\"\n",
        "    model = create_base_model()\n",
        "    data = get_dataset()\n",
        "\n",
        "    num_layers_to_add = get_global_configuration()\n",
        "\n",
        "    for _ in range(num_layers_to_add):\n",
        "        model = train_model(model, data)  # Train before adding a layer\n",
        "        model = add_extra_layer(model)  # Add an extra layer after training\n",
        "\n",
        "# Run the training process\n",
        "training_process()\n"
      ]
    }
  ]
}